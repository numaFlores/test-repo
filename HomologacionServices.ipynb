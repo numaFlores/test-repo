{
 "cells": [
  {
   "cell_type": "code",
   "execution_count": 1,
   "metadata": {
    "collapsed": true,
    "deletable": true,
    "editable": true
   },
   "outputs": [],
   "source": [
    "import pandas as pd\n",
    "import pandas_profiling\n",
    "import matplotlib\n",
    "import matplotlib.pyplot as plt\n",
    "import scipy.stats as st\n",
    "import numpy as np\n",
    "from sqlalchemy import create_engine,MetaData,Table,select,engine\n",
    "import pandas_profiling\n",
    "import datetime"
   ]
  },
  {
   "cell_type": "code",
   "execution_count": 2,
   "metadata": {
    "collapsed": true,
    "deletable": true,
    "editable": true
   },
   "outputs": [],
   "source": [
    "from fuzzywuzzy import fuzz\n",
    "from fuzzywuzzy import process"
   ]
  },
  {
   "cell_type": "code",
   "execution_count": 3,
   "metadata": {
    "collapsed": true,
    "deletable": true,
    "editable": true
   },
   "outputs": [],
   "source": [
    "%matplotlib inline"
   ]
  },
  {
   "cell_type": "code",
   "execution_count": 42,
   "metadata": {
    "collapsed": true,
    "deletable": true,
    "editable": true
   },
   "outputs": [],
   "source": [
    "DB_PROD={\n",
    "        'drivername':   'oracle+cx_oracle',       \n",
    "        'servername':   '10.100.3.76',    \n",
    "        'port': '1521',    \n",
    "        'sidname':'DMPRD',    \n",
    "        'username': 'ODI_UNICOMER', \n",
    "        'password': 'Unicomer$01'\n",
    "        }\n",
    "engine_test=create_engine(DB_PROD['drivername'] + '://' + DB_PROD['username']+':' + DB_PROD['password'] + '@' + DB_PROD['servername'] + ':' + DB_PROD['port'] + '/' + DB_PROD['sidname'])"
   ]
  },
  {
   "cell_type": "code",
   "execution_count": 18,
   "metadata": {
    "collapsed": false,
    "deletable": true,
    "editable": true
   },
   "outputs": [
    {
     "data": {
      "text/plain": [
       "94"
      ]
     },
     "execution_count": 18,
     "metadata": {},
     "output_type": "execute_result"
    }
   ],
   "source": [
    "fuzz.ratio(\"Catherine M Gitau\",\"Catherine Gitau\")\n",
    "fuzz.partial_ratio(\"Catherine M. Gitau\",\"Catherine Gitau\")\n",
    "fuzz.ratio(\"Catherine M Gitau\",\"Gitau Catherine\")\n",
    "fuzz.partial_ratio(\"Catherine M. Gitau\",\"Gitau Catherine\")\n",
    "fuzz.token_sort_ratio(\"Catherine Gitau M.\", \"Gitau Catherine\")"
   ]
  },
  {
   "cell_type": "code",
   "execution_count": 5,
   "metadata": {
    "collapsed": true,
    "deletable": true,
    "editable": true
   },
   "outputs": [],
   "source": [
    "qryMarcaSrv=\"\"\"SELECT DISTINCT MARCA_RI_NORM MARCA_SERVICES FROM\n",
    "   (SELECT /*+MATERIALIZE*/\n",
    "      MO.COUNTRY_CODE,\n",
    "      MO.MODELO_ARTICULO_ID ID_SRV,\n",
    "      MO.MODELO_ARTICULO MODELO_SRV,\n",
    "      REGEXP_REPLACE(UPPER(MO.MODELO_ARTICULO),'\\W+','') MODELO_SRV_NORM,\n",
    "      MO.DESC_ARTICULO DESCRIPCION_SRV,\n",
    "      REGEXP_REPLACE(UPPER(MO.DESC_ARTICULO),'\\W+','') DESCRIPCION_SRV_NORM,\n",
    "      MA.DESC_MARCA_ARTICULO MARCA_SRV,\n",
    "      REGEXP_REPLACE(UPPER(MA.DESC_MARCA_ARTICULO),'\\W+','') MARCA_SRV_NORM,      \n",
    "      TRIM(\n",
    "          REGEXP_REPLACE(\n",
    "            UPPER(REGEXP_REPLACE(MA.DESC_MARCA_ARTICULO,' *\\(.*$','')),\n",
    "            '\\W+'\n",
    "          )\n",
    "      ) MARCA_RI_NORM\n",
    "    FROM ODS.TLR_MODELOS_ARTICULOS MO\n",
    "      LEFT JOIN ODS.TLR_MARCAS_ARTICULOS MA ON MO.MARCA_ARTICULO_ID = MA.MARCA_ARTICULO_ID)\n",
    "      ORDER BY 1 ASC\n",
    "\"\"\"\n",
    "qryMarcaRI=\"SELECT DISTINCT BRAND_DESC MARCA FROM DIM.DW_DIM_PRODUCT_BRAND ORDER BY MARCA ASC\""
   ]
  },
  {
   "cell_type": "code",
   "execution_count": 43,
   "metadata": {
    "collapsed": true
   },
   "outputs": [],
   "source": [
    "qryMarcaSrv=\"\"\"WITH\n",
    "  MARCAS_HM AS\n",
    "    (\n",
    "    SELECT /*+MATERIALIZE*/\n",
    "      A.MARCA_RI, A.MARCA_ART\n",
    "    FROM ODS.TLR_PRODUCTOS_HM A\n",
    "    GROUP BY A.MARCA_RI, A.MARCA_ART\n",
    "    ORDER BY A.MARCA_RI, A.MARCA_ART\n",
    "    ),\n",
    "  ARTICULOS_SRV AS\n",
    "    (\n",
    "    SELECT /*+MATERIALIZE*/\n",
    "      MO.COUNTRY_CODE,\n",
    "      MO.MODELO_ARTICULO_ID ID_SRV,\n",
    "      MO.MODELO_ARTICULO MODELO_SRV,\n",
    "      REGEXP_REPLACE(UPPER(MO.MODELO_ARTICULO),'\\W+','') MODELO_SRV_NORM,\n",
    "      MO.DESC_ARTICULO DESCRIPCION_SRV,\n",
    "      REGEXP_REPLACE(UPPER(MO.DESC_ARTICULO),'\\W+','') DESCRIPCION_SRV_NORM,\n",
    "      MA.DESC_MARCA_ARTICULO MARCA_SRV,\n",
    "      REGEXP_REPLACE(UPPER(MA.DESC_MARCA_ARTICULO),'\\W+','') MARCA_SERVICES_NORM,\n",
    "      HM.MARCA_RI,\n",
    "      TRIM(\n",
    "          REGEXP_REPLACE(\n",
    "            UPPER(\n",
    "                REGEXP_REPLACE(\n",
    "                    DECODE(\n",
    "                        NVL(HM.MARCA_RI,'N/A'),\n",
    "                        'N/A',\n",
    "                        NULL,\n",
    "                        NVL(HM.MARCA_RI,'N/A')\n",
    "                    ),\n",
    "                    ' *\\(.*$',''\n",
    "                )\n",
    "            ),\n",
    "            '\\W+'\n",
    "          )\n",
    "      ) MARCA_HOM_MANUAL\n",
    "    FROM ODS.TLR_MODELOS_ARTICULOS MO\n",
    "      LEFT JOIN ODS.TLR_MARCAS_ARTICULOS MA\n",
    "        ON MO.MARCA_ARTICULO_ID = MA.MARCA_ARTICULO_ID\n",
    "      LEFT JOIN MARCAS_HM HM\n",
    "        ON MA.DESC_MARCA_ARTICULO = HM.MARCA_ART    \n",
    "    ) SELECT * FROM ARTICULOS_SRV WHERE MARCA_SERVICES_NORM IS NOT NULL\n",
    "\"\"\""
   ]
  },
  {
   "cell_type": "code",
   "execution_count": 44,
   "metadata": {
    "collapsed": true
   },
   "outputs": [],
   "source": [
    "qryMarcaRI=\"SELECT DISTINCT BRAND_DESC MARCA FROM DIM.DW_DIM_PRODUCT_BRAND ORDER BY MARCA ASC\""
   ]
  },
  {
   "cell_type": "code",
   "execution_count": 45,
   "metadata": {
    "collapsed": true,
    "deletable": true,
    "editable": true
   },
   "outputs": [],
   "source": [
    "names_array=[]\n",
    "ratio_array=[]\n",
    "def match_names(wrong_names,correct_names):\n",
    "    for row in wrong_names:\n",
    "        x=process.extractOne(row,correct_names,scorer=fuzz.ratio)    \n",
    "        names_array.append(x[0])\n",
    "        ratio_array.append(x[1])\n",
    "    return names_array,ratio_array"
   ]
  },
  {
   "cell_type": "code",
   "execution_count": 21,
   "metadata": {
    "collapsed": false
   },
   "outputs": [
    {
     "data": {
      "text/html": [
       "<div>\n",
       "<style scoped>\n",
       "    .dataframe tbody tr th:only-of-type {\n",
       "        vertical-align: middle;\n",
       "    }\n",
       "\n",
       "    .dataframe tbody tr th {\n",
       "        vertical-align: top;\n",
       "    }\n",
       "\n",
       "    .dataframe thead th {\n",
       "        text-align: right;\n",
       "    }\n",
       "</style>\n",
       "<table border=\"1\" class=\"dataframe\">\n",
       "  <thead>\n",
       "    <tr style=\"text-align: right;\">\n",
       "      <th></th>\n",
       "      <th>country_code</th>\n",
       "      <th>id_srv</th>\n",
       "      <th>modelo_srv</th>\n",
       "      <th>modelo_srv_norm</th>\n",
       "      <th>descripcion_srv</th>\n",
       "      <th>descripcion_srv_norm</th>\n",
       "      <th>marca_srv</th>\n",
       "      <th>marca_services_norm</th>\n",
       "      <th>marca_ri</th>\n",
       "      <th>marca_hom_manual</th>\n",
       "    </tr>\n",
       "  </thead>\n",
       "  <tbody>\n",
       "    <tr>\n",
       "      <th>0</th>\n",
       "      <td>503</td>\n",
       "      <td>52064</td>\n",
       "      <td>ES1512C2TL</td>\n",
       "      <td>ES1512C2TL</td>\n",
       "      <td>LAPTOP</td>\n",
       "      <td>LAPTOP</td>\n",
       "      <td>ACER</td>\n",
       "      <td>ACER</td>\n",
       "      <td>ACER                      (07329)</td>\n",
       "      <td>ACER</td>\n",
       "    </tr>\n",
       "    <tr>\n",
       "      <th>1</th>\n",
       "      <td>503</td>\n",
       "      <td>52023</td>\n",
       "      <td>ES1411COFO</td>\n",
       "      <td>ES1411COFO</td>\n",
       "      <td>LAPTOP</td>\n",
       "      <td>LAPTOP</td>\n",
       "      <td>ACER</td>\n",
       "      <td>ACER</td>\n",
       "      <td>ACER                      (07329)</td>\n",
       "      <td>ACER</td>\n",
       "    </tr>\n",
       "    <tr>\n",
       "      <th>2</th>\n",
       "      <td>503</td>\n",
       "      <td>62257</td>\n",
       "      <td>N15P2</td>\n",
       "      <td>N15P2</td>\n",
       "      <td>COMPUTADORA</td>\n",
       "      <td>COMPUTADORA</td>\n",
       "      <td>ACER</td>\n",
       "      <td>ACER</td>\n",
       "      <td>ACER                      (07329)</td>\n",
       "      <td>ACER</td>\n",
       "    </tr>\n",
       "    <tr>\n",
       "      <th>3</th>\n",
       "      <td>503</td>\n",
       "      <td>51023</td>\n",
       "      <td>S1002145A</td>\n",
       "      <td>S1002145A</td>\n",
       "      <td>MINI LAPTOP</td>\n",
       "      <td>MINILAPTOP</td>\n",
       "      <td>ACER</td>\n",
       "      <td>ACER</td>\n",
       "      <td>ACER                      (07329)</td>\n",
       "      <td>ACER</td>\n",
       "    </tr>\n",
       "    <tr>\n",
       "      <th>4</th>\n",
       "      <td>503</td>\n",
       "      <td>58364</td>\n",
       "      <td>ES47334K2ES</td>\n",
       "      <td>ES47334K2ES</td>\n",
       "      <td>LAPTOP</td>\n",
       "      <td>LAPTOP</td>\n",
       "      <td>ACER</td>\n",
       "      <td>ACER</td>\n",
       "      <td>ACER                      (07329)</td>\n",
       "      <td>ACER</td>\n",
       "    </tr>\n",
       "    <tr>\n",
       "      <th>5</th>\n",
       "      <td>503</td>\n",
       "      <td>58359</td>\n",
       "      <td>E547334K2ES</td>\n",
       "      <td>E547334K2ES</td>\n",
       "      <td>LAPTOP</td>\n",
       "      <td>LAPTOP</td>\n",
       "      <td>ACER</td>\n",
       "      <td>ACER</td>\n",
       "      <td>ACER                      (07329)</td>\n",
       "      <td>ACER</td>\n",
       "    </tr>\n",
       "    <tr>\n",
       "      <th>6</th>\n",
       "      <td>503</td>\n",
       "      <td>51442</td>\n",
       "      <td>S10022145A/N15P2</td>\n",
       "      <td>S10022145AN15P2</td>\n",
       "      <td>MINILAPTO</td>\n",
       "      <td>MINILAPTO</td>\n",
       "      <td>ACER</td>\n",
       "      <td>ACER</td>\n",
       "      <td>ACER                      (07329)</td>\n",
       "      <td>ACER</td>\n",
       "    </tr>\n",
       "    <tr>\n",
       "      <th>7</th>\n",
       "      <td>503</td>\n",
       "      <td>58173</td>\n",
       "      <td>AZ1621RC13ES</td>\n",
       "      <td>AZ1621RC13ES</td>\n",
       "      <td>COMPUTADORA DE ESCRITORIO</td>\n",
       "      <td>COMPUTADORADEESCRITORIO</td>\n",
       "      <td>ACER</td>\n",
       "      <td>ACER</td>\n",
       "      <td>ACER                      (07329)</td>\n",
       "      <td>ACER</td>\n",
       "    </tr>\n",
       "    <tr>\n",
       "      <th>8</th>\n",
       "      <td>503</td>\n",
       "      <td>53563</td>\n",
       "      <td>B1-770</td>\n",
       "      <td>B1770</td>\n",
       "      <td>TABLET</td>\n",
       "      <td>TABLET</td>\n",
       "      <td>ACER</td>\n",
       "      <td>ACER</td>\n",
       "      <td>ACER                      (07329)</td>\n",
       "      <td>ACER</td>\n",
       "    </tr>\n",
       "    <tr>\n",
       "      <th>9</th>\n",
       "      <td>503</td>\n",
       "      <td>54924</td>\n",
       "      <td>E547334K2</td>\n",
       "      <td>E547334K2</td>\n",
       "      <td>LAPTOP</td>\n",
       "      <td>LAPTOP</td>\n",
       "      <td>ACER</td>\n",
       "      <td>ACER</td>\n",
       "      <td>ACER                      (07329)</td>\n",
       "      <td>ACER</td>\n",
       "    </tr>\n",
       "    <tr>\n",
       "      <th>10</th>\n",
       "      <td>503</td>\n",
       "      <td>45057</td>\n",
       "      <td>ES1-512-C4SQ</td>\n",
       "      <td>ES1512C4SQ</td>\n",
       "      <td>LAPTOP</td>\n",
       "      <td>LAPTOP</td>\n",
       "      <td>ACER</td>\n",
       "      <td>ACER</td>\n",
       "      <td>ACER                      (07329)</td>\n",
       "      <td>ACER</td>\n",
       "    </tr>\n",
       "    <tr>\n",
       "      <th>11</th>\n",
       "      <td>503</td>\n",
       "      <td>45021</td>\n",
       "      <td>E547157EX</td>\n",
       "      <td>E547157EX</td>\n",
       "      <td>COMPUTADORA</td>\n",
       "      <td>COMPUTADORA</td>\n",
       "      <td>ACER</td>\n",
       "      <td>ACER</td>\n",
       "      <td>ACER                      (07329)</td>\n",
       "      <td>ACER</td>\n",
       "    </tr>\n",
       "    <tr>\n",
       "      <th>12</th>\n",
       "      <td>503</td>\n",
       "      <td>55915</td>\n",
       "      <td>SF31451336HE</td>\n",
       "      <td>SF31451336HE</td>\n",
       "      <td>LAPTOP</td>\n",
       "      <td>LAPTOP</td>\n",
       "      <td>ACER</td>\n",
       "      <td>ACER</td>\n",
       "      <td>ACER                      (07329)</td>\n",
       "      <td>ACER</td>\n",
       "    </tr>\n",
       "    <tr>\n",
       "      <th>13</th>\n",
       "      <td>503</td>\n",
       "      <td>54553</td>\n",
       "      <td>5571563B</td>\n",
       "      <td>5571563B</td>\n",
       "      <td>LAPTOP</td>\n",
       "      <td>LAPTOP</td>\n",
       "      <td>ACER</td>\n",
       "      <td>ACER</td>\n",
       "      <td>ACER                      (07329)</td>\n",
       "      <td>ACER</td>\n",
       "    </tr>\n",
       "    <tr>\n",
       "      <th>14</th>\n",
       "      <td>503</td>\n",
       "      <td>32210</td>\n",
       "      <td>BL50</td>\n",
       "      <td>BL50</td>\n",
       "      <td>COMPUTADORA</td>\n",
       "      <td>COMPUTADORA</td>\n",
       "      <td>ACER</td>\n",
       "      <td>ACER</td>\n",
       "      <td>ACER                      (07329)</td>\n",
       "      <td>ACER</td>\n",
       "    </tr>\n",
       "    <tr>\n",
       "      <th>15</th>\n",
       "      <td>503</td>\n",
       "      <td>53274</td>\n",
       "      <td>SW013106W</td>\n",
       "      <td>SW013106W</td>\n",
       "      <td>MINI LAPTO</td>\n",
       "      <td>MINILAPTO</td>\n",
       "      <td>ACER</td>\n",
       "      <td>ACER</td>\n",
       "      <td>ACER                      (07329)</td>\n",
       "      <td>ACER</td>\n",
       "    </tr>\n",
       "    <tr>\n",
       "      <th>16</th>\n",
       "      <td>503</td>\n",
       "      <td>52814</td>\n",
       "      <td>SW3-013</td>\n",
       "      <td>SW3013</td>\n",
       "      <td>MINI LAPTOP</td>\n",
       "      <td>MINILAPTOP</td>\n",
       "      <td>ACER</td>\n",
       "      <td>ACER</td>\n",
       "      <td>ACER                      (07329)</td>\n",
       "      <td>ACER</td>\n",
       "    </tr>\n",
       "    <tr>\n",
       "      <th>17</th>\n",
       "      <td>503</td>\n",
       "      <td>53738</td>\n",
       "      <td>AZ1611RC04ES</td>\n",
       "      <td>AZ1611RC04ES</td>\n",
       "      <td>COMPUTADORA</td>\n",
       "      <td>COMPUTADORA</td>\n",
       "      <td>ACER</td>\n",
       "      <td>ACER</td>\n",
       "      <td>ACER                      (07329)</td>\n",
       "      <td>ACER</td>\n",
       "    </tr>\n",
       "    <tr>\n",
       "      <th>18</th>\n",
       "      <td>503</td>\n",
       "      <td>32096</td>\n",
       "      <td>ZR1</td>\n",
       "      <td>ZR1</td>\n",
       "      <td>COMPUTADORA</td>\n",
       "      <td>COMPUTADORA</td>\n",
       "      <td>ACER</td>\n",
       "      <td>ACER</td>\n",
       "      <td>ACER                      (07329)</td>\n",
       "      <td>ACER</td>\n",
       "    </tr>\n",
       "    <tr>\n",
       "      <th>19</th>\n",
       "      <td>503</td>\n",
       "      <td>32486</td>\n",
       "      <td>ZR3</td>\n",
       "      <td>ZR3</td>\n",
       "      <td>COMPUTADORA</td>\n",
       "      <td>COMPUTADORA</td>\n",
       "      <td>ACER</td>\n",
       "      <td>ACER</td>\n",
       "      <td>ACER                      (07329)</td>\n",
       "      <td>ACER</td>\n",
       "    </tr>\n",
       "  </tbody>\n",
       "</table>\n",
       "</div>"
      ],
      "text/plain": [
       "    country_code  id_srv        modelo_srv  modelo_srv_norm  \\\n",
       "0            503   52064        ES1512C2TL       ES1512C2TL   \n",
       "1            503   52023        ES1411COFO       ES1411COFO   \n",
       "2            503   62257             N15P2            N15P2   \n",
       "3            503   51023         S1002145A        S1002145A   \n",
       "4            503   58364       ES47334K2ES      ES47334K2ES   \n",
       "5            503   58359       E547334K2ES      E547334K2ES   \n",
       "6            503   51442  S10022145A/N15P2  S10022145AN15P2   \n",
       "7            503   58173      AZ1621RC13ES     AZ1621RC13ES   \n",
       "8            503   53563            B1-770            B1770   \n",
       "9            503   54924         E547334K2        E547334K2   \n",
       "10           503   45057      ES1-512-C4SQ       ES1512C4SQ   \n",
       "11           503   45021         E547157EX        E547157EX   \n",
       "12           503   55915      SF31451336HE     SF31451336HE   \n",
       "13           503   54553          5571563B         5571563B   \n",
       "14           503   32210              BL50             BL50   \n",
       "15           503   53274         SW013106W        SW013106W   \n",
       "16           503   52814           SW3-013           SW3013   \n",
       "17           503   53738      AZ1611RC04ES     AZ1611RC04ES   \n",
       "18           503   32096               ZR1              ZR1   \n",
       "19           503   32486               ZR3              ZR3   \n",
       "\n",
       "              descripcion_srv     descripcion_srv_norm marca_srv  \\\n",
       "0                      LAPTOP                   LAPTOP      ACER   \n",
       "1                      LAPTOP                   LAPTOP      ACER   \n",
       "2                 COMPUTADORA              COMPUTADORA      ACER   \n",
       "3                 MINI LAPTOP               MINILAPTOP      ACER   \n",
       "4                      LAPTOP                   LAPTOP      ACER   \n",
       "5                      LAPTOP                   LAPTOP      ACER   \n",
       "6                   MINILAPTO                MINILAPTO      ACER   \n",
       "7   COMPUTADORA DE ESCRITORIO  COMPUTADORADEESCRITORIO      ACER   \n",
       "8                      TABLET                   TABLET      ACER   \n",
       "9                      LAPTOP                   LAPTOP      ACER   \n",
       "10                     LAPTOP                   LAPTOP      ACER   \n",
       "11                COMPUTADORA              COMPUTADORA      ACER   \n",
       "12                     LAPTOP                   LAPTOP      ACER   \n",
       "13                     LAPTOP                   LAPTOP      ACER   \n",
       "14                COMPUTADORA              COMPUTADORA      ACER   \n",
       "15                 MINI LAPTO                MINILAPTO      ACER   \n",
       "16                MINI LAPTOP               MINILAPTOP      ACER   \n",
       "17                COMPUTADORA              COMPUTADORA      ACER   \n",
       "18                COMPUTADORA              COMPUTADORA      ACER   \n",
       "19                COMPUTADORA              COMPUTADORA      ACER   \n",
       "\n",
       "   marca_services_norm                           marca_ri marca_hom_manual  \n",
       "0                 ACER  ACER                      (07329)             ACER  \n",
       "1                 ACER  ACER                      (07329)             ACER  \n",
       "2                 ACER  ACER                      (07329)             ACER  \n",
       "3                 ACER  ACER                      (07329)             ACER  \n",
       "4                 ACER  ACER                      (07329)             ACER  \n",
       "5                 ACER  ACER                      (07329)             ACER  \n",
       "6                 ACER  ACER                      (07329)             ACER  \n",
       "7                 ACER  ACER                      (07329)             ACER  \n",
       "8                 ACER  ACER                      (07329)             ACER  \n",
       "9                 ACER  ACER                      (07329)             ACER  \n",
       "10                ACER  ACER                      (07329)             ACER  \n",
       "11                ACER  ACER                      (07329)             ACER  \n",
       "12                ACER  ACER                      (07329)             ACER  \n",
       "13                ACER  ACER                      (07329)             ACER  \n",
       "14                ACER  ACER                      (07329)             ACER  \n",
       "15                ACER  ACER                      (07329)             ACER  \n",
       "16                ACER  ACER                      (07329)             ACER  \n",
       "17                ACER  ACER                      (07329)             ACER  \n",
       "18                ACER  ACER                      (07329)             ACER  \n",
       "19                ACER  ACER                      (07329)             ACER  "
      ]
     },
     "execution_count": 21,
     "metadata": {},
     "output_type": "execute_result"
    }
   ],
   "source": [
    "dfMarcaSrv.head(20)"
   ]
  },
  {
   "cell_type": "code",
   "execution_count": 46,
   "metadata": {
    "collapsed": false,
    "deletable": true,
    "editable": true
   },
   "outputs": [],
   "source": [
    "#Wrong marca dataset\n",
    "dfMarcaSrv=pd.read_sql_query(qryMarcaSrv,engine_test)\n",
    "wrong_names=dfMarcaSrv[\"marca_services_norm\"].dropna().values"
   ]
  },
  {
   "cell_type": "code",
   "execution_count": 31,
   "metadata": {
    "collapsed": false,
    "deletable": true,
    "editable": true
   },
   "outputs": [
    {
     "data": {
      "text/plain": [
       "array(['ACER', 'ACER', 'ACER', ..., 'EPIC', 'EPIC', 'VIEWSAT'], dtype=object)"
      ]
     },
     "execution_count": 31,
     "metadata": {},
     "output_type": "execute_result"
    }
   ],
   "source": [
    "wrong_names"
   ]
  },
  {
   "cell_type": "code",
   "execution_count": 47,
   "metadata": {
    "collapsed": true,
    "deletable": true,
    "editable": true
   },
   "outputs": [],
   "source": [
    "#Correct Marca dataset\n",
    "dfMarcaRI=pd.read_sql_query(qryMarcaRI,engine_test)\n",
    "correct_names=dfMarcaRI[\"marca\"].values"
   ]
  },
  {
   "cell_type": "code",
   "execution_count": 48,
   "metadata": {
    "collapsed": false,
    "deletable": true,
    "editable": true
   },
   "outputs": [],
   "source": [
    "name_match,ratio_match=match_names(wrong_names,correct_names)"
   ]
  },
  {
   "cell_type": "code",
   "execution_count": 49,
   "metadata": {
    "collapsed": true,
    "deletable": true,
    "editable": true
   },
   "outputs": [],
   "source": [
    "dfMarcaSrv[\"correct_marca_name\"]=pd.Series(name_match)\n",
    "dfMarcaSrv[\"marca_name_ratio\"]=pd.Series(ratio_match)"
   ]
  },
  {
   "cell_type": "code",
   "execution_count": 50,
   "metadata": {
    "collapsed": true,
    "deletable": true,
    "editable": true
   },
   "outputs": [],
   "source": [
    "dfMarcaSrv.to_csv(\"String_Matched_Marcas_Name.csv\")"
   ]
  },
  {
   "cell_type": "code",
   "execution_count": 51,
   "metadata": {
    "collapsed": false,
    "deletable": true,
    "editable": true
   },
   "outputs": [
    {
     "name": "stdout",
     "output_type": "stream",
     "text": [
      "  marca_services_norm correct_marca_name  marca_name_ratio\n",
      "0                ACER               ACER               100\n",
      "1                ACER               ACER               100\n",
      "2                ACER               ACER               100\n",
      "3                ACER               ACER               100\n",
      "4                ACER               ACER               100\n",
      "5                ACER               ACER               100\n",
      "6                ACER               ACER               100\n",
      "7                ACER               ACER               100\n",
      "8                ACER               ACER               100\n",
      "9                ACER               ACER               100\n"
     ]
    }
   ],
   "source": [
    "print(dfMarcaSrv[['marca_services_norm','correct_marca_name','marca_name_ratio']].head(10))"
   ]
  },
  {
   "cell_type": "code",
   "execution_count": null,
   "metadata": {
    "collapsed": true,
    "deletable": true,
    "editable": true
   },
   "outputs": [],
   "source": []
  }
 ],
 "metadata": {
  "kernelspec": {
   "display_name": "Python 3",
   "language": "python",
   "name": "python3"
  },
  "language_info": {
   "codemirror_mode": {
    "name": "ipython",
    "version": 3
   },
   "file_extension": ".py",
   "mimetype": "text/x-python",
   "name": "python",
   "nbconvert_exporter": "python",
   "pygments_lexer": "ipython3",
   "version": "3.5.3"
  }
 },
 "nbformat": 4,
 "nbformat_minor": 2
}
